{
 "cells": [
  {
   "cell_type": "code",
   "execution_count": 1,
   "id": "b9794531",
   "metadata": {
    "ExecuteTime": {
     "end_time": "2023-03-01T07:48:08.697564Z",
     "start_time": "2023-03-01T07:47:52.788367Z"
    }
   },
   "outputs": [],
   "source": [
    "import pandas as pd \n",
    "import numpy as np"
   ]
  },
  {
   "cell_type": "markdown",
   "id": "7c611df6",
   "metadata": {},
   "source": [
    "## Question 7"
   ]
  },
  {
   "cell_type": "code",
   "execution_count": 2,
   "id": "825c4f77",
   "metadata": {
    "ExecuteTime": {
     "end_time": "2023-03-01T08:23:20.585672Z",
     "start_time": "2023-03-01T08:23:20.115968Z"
    }
   },
   "outputs": [],
   "source": [
    "data=pd.read_csv(r\"C:\\Users\\safreena\\Desktop\\Assignments ExcelR\\Basic statistics_1\\Data sets\\Q7.csv\")"
   ]
  },
  {
   "cell_type": "code",
   "execution_count": 3,
   "id": "885133d8",
   "metadata": {
    "ExecuteTime": {
     "end_time": "2023-03-01T08:23:42.824086Z",
     "start_time": "2023-03-01T08:23:42.807989Z"
    }
   },
   "outputs": [],
   "source": [
    "### Mean, Median, Mode, Variance, Standard Deviation, and Range for points"
   ]
  },
  {
   "cell_type": "code",
   "execution_count": 9,
   "id": "92c41a36",
   "metadata": {
    "ExecuteTime": {
     "end_time": "2023-03-01T08:25:31.842094Z",
     "start_time": "2023-03-01T08:25:31.815168Z"
    }
   },
   "outputs": [
    {
     "data": {
      "text/plain": [
       "3.5965625000000006"
      ]
     },
     "execution_count": 9,
     "metadata": {},
     "output_type": "execute_result"
    }
   ],
   "source": [
    "data.Points.mean()"
   ]
  },
  {
   "cell_type": "code",
   "execution_count": 5,
   "id": "6365d916",
   "metadata": {
    "ExecuteTime": {
     "end_time": "2023-03-01T08:24:33.737707Z",
     "start_time": "2023-03-01T08:24:33.642672Z"
    }
   },
   "outputs": [
    {
     "data": {
      "text/plain": [
       "3.6950000000000003"
      ]
     },
     "execution_count": 5,
     "metadata": {},
     "output_type": "execute_result"
    }
   ],
   "source": [
    "data.Points.median()"
   ]
  },
  {
   "cell_type": "code",
   "execution_count": 6,
   "id": "a2f61c7c",
   "metadata": {
    "ExecuteTime": {
     "end_time": "2023-03-01T08:24:47.631793Z",
     "start_time": "2023-03-01T08:24:47.563131Z"
    }
   },
   "outputs": [
    {
     "data": {
      "text/plain": [
       "0    3.07\n",
       "1    3.92\n",
       "Name: Points, dtype: float64"
      ]
     },
     "execution_count": 6,
     "metadata": {},
     "output_type": "execute_result"
    }
   ],
   "source": [
    "data.Points.mode()"
   ]
  },
  {
   "cell_type": "code",
   "execution_count": 8,
   "id": "43238946",
   "metadata": {
    "ExecuteTime": {
     "end_time": "2023-03-01T08:25:02.867470Z",
     "start_time": "2023-03-01T08:25:02.503091Z"
    }
   },
   "outputs": [
    {
     "data": {
      "text/html": [
       "<div>\n",
       "<style scoped>\n",
       "    .dataframe tbody tr th:only-of-type {\n",
       "        vertical-align: middle;\n",
       "    }\n",
       "\n",
       "    .dataframe tbody tr th {\n",
       "        vertical-align: top;\n",
       "    }\n",
       "\n",
       "    .dataframe thead th {\n",
       "        text-align: right;\n",
       "    }\n",
       "</style>\n",
       "<table border=\"1\" class=\"dataframe\">\n",
       "  <thead>\n",
       "    <tr style=\"text-align: right;\">\n",
       "      <th></th>\n",
       "      <th>Points</th>\n",
       "      <th>Score</th>\n",
       "      <th>Weigh</th>\n",
       "    </tr>\n",
       "  </thead>\n",
       "  <tbody>\n",
       "    <tr>\n",
       "      <th>count</th>\n",
       "      <td>32.000000</td>\n",
       "      <td>32.000000</td>\n",
       "      <td>32.000000</td>\n",
       "    </tr>\n",
       "    <tr>\n",
       "      <th>mean</th>\n",
       "      <td>3.596563</td>\n",
       "      <td>3.217250</td>\n",
       "      <td>17.848750</td>\n",
       "    </tr>\n",
       "    <tr>\n",
       "      <th>std</th>\n",
       "      <td>0.534679</td>\n",
       "      <td>0.978457</td>\n",
       "      <td>1.786943</td>\n",
       "    </tr>\n",
       "    <tr>\n",
       "      <th>min</th>\n",
       "      <td>2.760000</td>\n",
       "      <td>1.513000</td>\n",
       "      <td>14.500000</td>\n",
       "    </tr>\n",
       "    <tr>\n",
       "      <th>25%</th>\n",
       "      <td>3.080000</td>\n",
       "      <td>2.581250</td>\n",
       "      <td>16.892500</td>\n",
       "    </tr>\n",
       "    <tr>\n",
       "      <th>50%</th>\n",
       "      <td>3.695000</td>\n",
       "      <td>3.325000</td>\n",
       "      <td>17.710000</td>\n",
       "    </tr>\n",
       "    <tr>\n",
       "      <th>75%</th>\n",
       "      <td>3.920000</td>\n",
       "      <td>3.610000</td>\n",
       "      <td>18.900000</td>\n",
       "    </tr>\n",
       "    <tr>\n",
       "      <th>max</th>\n",
       "      <td>4.930000</td>\n",
       "      <td>5.424000</td>\n",
       "      <td>22.900000</td>\n",
       "    </tr>\n",
       "  </tbody>\n",
       "</table>\n",
       "</div>"
      ],
      "text/plain": [
       "          Points      Score      Weigh\n",
       "count  32.000000  32.000000  32.000000\n",
       "mean    3.596563   3.217250  17.848750\n",
       "std     0.534679   0.978457   1.786943\n",
       "min     2.760000   1.513000  14.500000\n",
       "25%     3.080000   2.581250  16.892500\n",
       "50%     3.695000   3.325000  17.710000\n",
       "75%     3.920000   3.610000  18.900000\n",
       "max     4.930000   5.424000  22.900000"
      ]
     },
     "execution_count": 8,
     "metadata": {},
     "output_type": "execute_result"
    }
   ],
   "source": [
    "data.describe()"
   ]
  },
  {
   "cell_type": "code",
   "execution_count": 10,
   "id": "e20f99cb",
   "metadata": {
    "ExecuteTime": {
     "end_time": "2023-03-01T08:25:53.024806Z",
     "start_time": "2023-03-01T08:25:53.009843Z"
    }
   },
   "outputs": [
    {
     "data": {
      "text/plain": [
       "0.5346787360709716"
      ]
     },
     "execution_count": 10,
     "metadata": {},
     "output_type": "execute_result"
    }
   ],
   "source": [
    "data.Points.std()"
   ]
  },
  {
   "cell_type": "code",
   "execution_count": 11,
   "id": "5216f71d",
   "metadata": {
    "ExecuteTime": {
     "end_time": "2023-03-01T08:26:02.878179Z",
     "start_time": "2023-03-01T08:26:02.868236Z"
    }
   },
   "outputs": [
    {
     "data": {
      "text/plain": [
       "2.76"
      ]
     },
     "execution_count": 11,
     "metadata": {},
     "output_type": "execute_result"
    }
   ],
   "source": [
    "data.Points.min()"
   ]
  },
  {
   "cell_type": "code",
   "execution_count": 12,
   "id": "acd204c1",
   "metadata": {
    "ExecuteTime": {
     "end_time": "2023-03-01T08:26:14.728109Z",
     "start_time": "2023-03-01T08:26:14.712142Z"
    }
   },
   "outputs": [
    {
     "data": {
      "text/plain": [
       "4.93"
      ]
     },
     "execution_count": 12,
     "metadata": {},
     "output_type": "execute_result"
    }
   ],
   "source": [
    "data.Points.max()"
   ]
  },
  {
   "cell_type": "code",
   "execution_count": 13,
   "id": "c1d70345",
   "metadata": {
    "ExecuteTime": {
     "end_time": "2023-03-01T08:27:10.792225Z",
     "start_time": "2023-03-01T08:27:10.772279Z"
    }
   },
   "outputs": [
    {
     "data": {
      "text/plain": [
       "3.2172499999999995"
      ]
     },
     "execution_count": 13,
     "metadata": {},
     "output_type": "execute_result"
    }
   ],
   "source": [
    "data.Score.mean()"
   ]
  },
  {
   "cell_type": "code",
   "execution_count": 14,
   "id": "40c6b76c",
   "metadata": {
    "ExecuteTime": {
     "end_time": "2023-03-01T08:27:22.521819Z",
     "start_time": "2023-03-01T08:27:22.509851Z"
    }
   },
   "outputs": [
    {
     "data": {
      "text/plain": [
       "3.325"
      ]
     },
     "execution_count": 14,
     "metadata": {},
     "output_type": "execute_result"
    }
   ],
   "source": [
    "data.Score.median()"
   ]
  },
  {
   "cell_type": "code",
   "execution_count": 15,
   "id": "ab836ba2",
   "metadata": {
    "ExecuteTime": {
     "end_time": "2023-03-01T08:27:30.851418Z",
     "start_time": "2023-03-01T08:27:30.835462Z"
    }
   },
   "outputs": [
    {
     "data": {
      "text/plain": [
       "0    3.44\n",
       "Name: Score, dtype: float64"
      ]
     },
     "execution_count": 15,
     "metadata": {},
     "output_type": "execute_result"
    }
   ],
   "source": [
    "data.Score.mode()"
   ]
  },
  {
   "cell_type": "code",
   "execution_count": 16,
   "id": "328b5c26",
   "metadata": {
    "ExecuteTime": {
     "end_time": "2023-03-01T08:27:44.488581Z",
     "start_time": "2023-03-01T08:27:44.476599Z"
    }
   },
   "outputs": [
    {
     "data": {
      "text/plain": [
       "0.9573789677419356"
      ]
     },
     "execution_count": 16,
     "metadata": {},
     "output_type": "execute_result"
    }
   ],
   "source": [
    "data.Score.var()"
   ]
  },
  {
   "cell_type": "code",
   "execution_count": 17,
   "id": "c9c8337b",
   "metadata": {
    "ExecuteTime": {
     "end_time": "2023-03-01T08:27:57.063436Z",
     "start_time": "2023-03-01T08:27:57.040495Z"
    }
   },
   "outputs": [
    {
     "data": {
      "text/plain": [
       "0.9784574429896967"
      ]
     },
     "execution_count": 17,
     "metadata": {},
     "output_type": "execute_result"
    }
   ],
   "source": [
    "\n",
    "data.Score.std()"
   ]
  },
  {
   "cell_type": "code",
   "execution_count": 18,
   "id": "f82f9f29",
   "metadata": {
    "ExecuteTime": {
     "end_time": "2023-03-01T08:28:06.594848Z",
     "start_time": "2023-03-01T08:28:06.578887Z"
    }
   },
   "outputs": [
    {
     "data": {
      "text/plain": [
       "1.513"
      ]
     },
     "execution_count": 18,
     "metadata": {},
     "output_type": "execute_result"
    }
   ],
   "source": [
    "data.Score.min()"
   ]
  },
  {
   "cell_type": "code",
   "execution_count": 19,
   "id": "beb82755",
   "metadata": {
    "ExecuteTime": {
     "end_time": "2023-03-01T08:28:15.786275Z",
     "start_time": "2023-03-01T08:28:15.772315Z"
    }
   },
   "outputs": [
    {
     "data": {
      "text/plain": [
       "5.424"
      ]
     },
     "execution_count": 19,
     "metadata": {},
     "output_type": "execute_result"
    }
   ],
   "source": [
    "data.Score.max()"
   ]
  },
  {
   "cell_type": "code",
   "execution_count": 20,
   "id": "4c0f6282",
   "metadata": {
    "ExecuteTime": {
     "end_time": "2023-03-01T08:28:27.220424Z",
     "start_time": "2023-03-01T08:28:27.195491Z"
    }
   },
   "outputs": [
    {
     "data": {
      "text/plain": [
       "17.848750000000003"
      ]
     },
     "execution_count": 20,
     "metadata": {},
     "output_type": "execute_result"
    }
   ],
   "source": [
    "\n",
    "data.Weigh.mean()"
   ]
  },
  {
   "cell_type": "code",
   "execution_count": 21,
   "id": "ac30d9a3",
   "metadata": {
    "ExecuteTime": {
     "end_time": "2023-03-01T08:28:38.238769Z",
     "start_time": "2023-03-01T08:28:38.218825Z"
    }
   },
   "outputs": [
    {
     "data": {
      "text/plain": [
       "17.71"
      ]
     },
     "execution_count": 21,
     "metadata": {},
     "output_type": "execute_result"
    }
   ],
   "source": [
    "data.Weigh.median()"
   ]
  },
  {
   "cell_type": "code",
   "execution_count": 22,
   "id": "2aba9c62",
   "metadata": {
    "ExecuteTime": {
     "end_time": "2023-03-01T08:29:10.564605Z",
     "start_time": "2023-03-01T08:29:10.537684Z"
    }
   },
   "outputs": [
    {
     "data": {
      "text/plain": [
       "0    17.02\n",
       "1    18.90\n",
       "Name: Weigh, dtype: float64"
      ]
     },
     "execution_count": 22,
     "metadata": {},
     "output_type": "execute_result"
    }
   ],
   "source": [
    "data.Weigh.mode()"
   ]
  },
  {
   "cell_type": "code",
   "execution_count": 23,
   "id": "651123a5",
   "metadata": {
    "ExecuteTime": {
     "end_time": "2023-03-01T08:29:38.704744Z",
     "start_time": "2023-03-01T08:29:38.681775Z"
    }
   },
   "outputs": [
    {
     "data": {
      "text/plain": [
       "3.193166129032258"
      ]
     },
     "execution_count": 23,
     "metadata": {},
     "output_type": "execute_result"
    }
   ],
   "source": [
    "data.Weigh.var()"
   ]
  },
  {
   "cell_type": "code",
   "execution_count": 24,
   "id": "06af9ace",
   "metadata": {
    "ExecuteTime": {
     "end_time": "2023-03-01T08:29:47.225441Z",
     "start_time": "2023-03-01T08:29:47.212508Z"
    }
   },
   "outputs": [
    {
     "data": {
      "text/plain": [
       "1.7869432360968431"
      ]
     },
     "execution_count": 24,
     "metadata": {},
     "output_type": "execute_result"
    }
   ],
   "source": [
    "\n",
    "data.Weigh.std()"
   ]
  },
  {
   "cell_type": "code",
   "execution_count": 25,
   "id": "c87f16c9",
   "metadata": {
    "ExecuteTime": {
     "end_time": "2023-03-01T08:29:56.626745Z",
     "start_time": "2023-03-01T08:29:56.604837Z"
    }
   },
   "outputs": [
    {
     "data": {
      "text/plain": [
       "14.5"
      ]
     },
     "execution_count": 25,
     "metadata": {},
     "output_type": "execute_result"
    }
   ],
   "source": [
    "data.Weigh.min()"
   ]
  },
  {
   "cell_type": "code",
   "execution_count": 26,
   "id": "a1f7fa9a",
   "metadata": {
    "ExecuteTime": {
     "end_time": "2023-03-01T08:30:07.001205Z",
     "start_time": "2023-03-01T08:30:06.987210Z"
    }
   },
   "outputs": [
    {
     "data": {
      "text/plain": [
       "22.9"
      ]
     },
     "execution_count": 26,
     "metadata": {},
     "output_type": "execute_result"
    }
   ],
   "source": [
    "data.Weigh.max()"
   ]
  },
  {
   "cell_type": "markdown",
   "id": "93d8b8aa",
   "metadata": {},
   "source": [
    "## question 9 skewness and kurtosis for given data"
   ]
  },
  {
   "cell_type": "code",
   "execution_count": 27,
   "id": "84a2fa2c",
   "metadata": {
    "ExecuteTime": {
     "end_time": "2023-03-01T08:32:11.456495Z",
     "start_time": "2023-03-01T08:32:11.435554Z"
    }
   },
   "outputs": [],
   "source": [
    "Q9a=pd.read_csv(r\"C:\\Users\\safreena\\Desktop\\Assignments ExcelR\\Basic statistics_1\\Data sets\\Q9_a.csv\")"
   ]
  },
  {
   "cell_type": "code",
   "execution_count": 28,
   "id": "28c33514",
   "metadata": {
    "ExecuteTime": {
     "end_time": "2023-03-01T08:32:22.273419Z",
     "start_time": "2023-03-01T08:32:21.745426Z"
    }
   },
   "outputs": [
    {
     "data": {
      "text/html": [
       "<div>\n",
       "<style scoped>\n",
       "    .dataframe tbody tr th:only-of-type {\n",
       "        vertical-align: middle;\n",
       "    }\n",
       "\n",
       "    .dataframe tbody tr th {\n",
       "        vertical-align: top;\n",
       "    }\n",
       "\n",
       "    .dataframe thead th {\n",
       "        text-align: right;\n",
       "    }\n",
       "</style>\n",
       "<table border=\"1\" class=\"dataframe\">\n",
       "  <thead>\n",
       "    <tr style=\"text-align: right;\">\n",
       "      <th></th>\n",
       "      <th>Index</th>\n",
       "      <th>speed</th>\n",
       "      <th>dist</th>\n",
       "    </tr>\n",
       "  </thead>\n",
       "  <tbody>\n",
       "    <tr>\n",
       "      <th>0</th>\n",
       "      <td>1</td>\n",
       "      <td>4</td>\n",
       "      <td>2</td>\n",
       "    </tr>\n",
       "    <tr>\n",
       "      <th>1</th>\n",
       "      <td>2</td>\n",
       "      <td>4</td>\n",
       "      <td>10</td>\n",
       "    </tr>\n",
       "    <tr>\n",
       "      <th>2</th>\n",
       "      <td>3</td>\n",
       "      <td>7</td>\n",
       "      <td>4</td>\n",
       "    </tr>\n",
       "    <tr>\n",
       "      <th>3</th>\n",
       "      <td>4</td>\n",
       "      <td>7</td>\n",
       "      <td>22</td>\n",
       "    </tr>\n",
       "    <tr>\n",
       "      <th>4</th>\n",
       "      <td>5</td>\n",
       "      <td>8</td>\n",
       "      <td>16</td>\n",
       "    </tr>\n",
       "    <tr>\n",
       "      <th>5</th>\n",
       "      <td>6</td>\n",
       "      <td>9</td>\n",
       "      <td>10</td>\n",
       "    </tr>\n",
       "    <tr>\n",
       "      <th>6</th>\n",
       "      <td>7</td>\n",
       "      <td>10</td>\n",
       "      <td>18</td>\n",
       "    </tr>\n",
       "    <tr>\n",
       "      <th>7</th>\n",
       "      <td>8</td>\n",
       "      <td>10</td>\n",
       "      <td>26</td>\n",
       "    </tr>\n",
       "    <tr>\n",
       "      <th>8</th>\n",
       "      <td>9</td>\n",
       "      <td>10</td>\n",
       "      <td>34</td>\n",
       "    </tr>\n",
       "    <tr>\n",
       "      <th>9</th>\n",
       "      <td>10</td>\n",
       "      <td>11</td>\n",
       "      <td>17</td>\n",
       "    </tr>\n",
       "    <tr>\n",
       "      <th>10</th>\n",
       "      <td>11</td>\n",
       "      <td>11</td>\n",
       "      <td>28</td>\n",
       "    </tr>\n",
       "    <tr>\n",
       "      <th>11</th>\n",
       "      <td>12</td>\n",
       "      <td>12</td>\n",
       "      <td>14</td>\n",
       "    </tr>\n",
       "    <tr>\n",
       "      <th>12</th>\n",
       "      <td>13</td>\n",
       "      <td>12</td>\n",
       "      <td>20</td>\n",
       "    </tr>\n",
       "    <tr>\n",
       "      <th>13</th>\n",
       "      <td>14</td>\n",
       "      <td>12</td>\n",
       "      <td>24</td>\n",
       "    </tr>\n",
       "    <tr>\n",
       "      <th>14</th>\n",
       "      <td>15</td>\n",
       "      <td>12</td>\n",
       "      <td>28</td>\n",
       "    </tr>\n",
       "    <tr>\n",
       "      <th>15</th>\n",
       "      <td>16</td>\n",
       "      <td>13</td>\n",
       "      <td>26</td>\n",
       "    </tr>\n",
       "    <tr>\n",
       "      <th>16</th>\n",
       "      <td>17</td>\n",
       "      <td>13</td>\n",
       "      <td>34</td>\n",
       "    </tr>\n",
       "    <tr>\n",
       "      <th>17</th>\n",
       "      <td>18</td>\n",
       "      <td>13</td>\n",
       "      <td>34</td>\n",
       "    </tr>\n",
       "    <tr>\n",
       "      <th>18</th>\n",
       "      <td>19</td>\n",
       "      <td>13</td>\n",
       "      <td>46</td>\n",
       "    </tr>\n",
       "    <tr>\n",
       "      <th>19</th>\n",
       "      <td>20</td>\n",
       "      <td>14</td>\n",
       "      <td>26</td>\n",
       "    </tr>\n",
       "    <tr>\n",
       "      <th>20</th>\n",
       "      <td>21</td>\n",
       "      <td>14</td>\n",
       "      <td>36</td>\n",
       "    </tr>\n",
       "    <tr>\n",
       "      <th>21</th>\n",
       "      <td>22</td>\n",
       "      <td>14</td>\n",
       "      <td>60</td>\n",
       "    </tr>\n",
       "    <tr>\n",
       "      <th>22</th>\n",
       "      <td>23</td>\n",
       "      <td>14</td>\n",
       "      <td>80</td>\n",
       "    </tr>\n",
       "    <tr>\n",
       "      <th>23</th>\n",
       "      <td>24</td>\n",
       "      <td>15</td>\n",
       "      <td>20</td>\n",
       "    </tr>\n",
       "    <tr>\n",
       "      <th>24</th>\n",
       "      <td>25</td>\n",
       "      <td>15</td>\n",
       "      <td>26</td>\n",
       "    </tr>\n",
       "    <tr>\n",
       "      <th>25</th>\n",
       "      <td>26</td>\n",
       "      <td>15</td>\n",
       "      <td>54</td>\n",
       "    </tr>\n",
       "    <tr>\n",
       "      <th>26</th>\n",
       "      <td>27</td>\n",
       "      <td>16</td>\n",
       "      <td>32</td>\n",
       "    </tr>\n",
       "    <tr>\n",
       "      <th>27</th>\n",
       "      <td>28</td>\n",
       "      <td>16</td>\n",
       "      <td>40</td>\n",
       "    </tr>\n",
       "    <tr>\n",
       "      <th>28</th>\n",
       "      <td>29</td>\n",
       "      <td>17</td>\n",
       "      <td>32</td>\n",
       "    </tr>\n",
       "    <tr>\n",
       "      <th>29</th>\n",
       "      <td>30</td>\n",
       "      <td>17</td>\n",
       "      <td>40</td>\n",
       "    </tr>\n",
       "    <tr>\n",
       "      <th>30</th>\n",
       "      <td>31</td>\n",
       "      <td>17</td>\n",
       "      <td>50</td>\n",
       "    </tr>\n",
       "    <tr>\n",
       "      <th>31</th>\n",
       "      <td>32</td>\n",
       "      <td>18</td>\n",
       "      <td>42</td>\n",
       "    </tr>\n",
       "    <tr>\n",
       "      <th>32</th>\n",
       "      <td>33</td>\n",
       "      <td>18</td>\n",
       "      <td>56</td>\n",
       "    </tr>\n",
       "    <tr>\n",
       "      <th>33</th>\n",
       "      <td>34</td>\n",
       "      <td>18</td>\n",
       "      <td>76</td>\n",
       "    </tr>\n",
       "    <tr>\n",
       "      <th>34</th>\n",
       "      <td>35</td>\n",
       "      <td>18</td>\n",
       "      <td>84</td>\n",
       "    </tr>\n",
       "    <tr>\n",
       "      <th>35</th>\n",
       "      <td>36</td>\n",
       "      <td>19</td>\n",
       "      <td>36</td>\n",
       "    </tr>\n",
       "    <tr>\n",
       "      <th>36</th>\n",
       "      <td>37</td>\n",
       "      <td>19</td>\n",
       "      <td>46</td>\n",
       "    </tr>\n",
       "    <tr>\n",
       "      <th>37</th>\n",
       "      <td>38</td>\n",
       "      <td>19</td>\n",
       "      <td>68</td>\n",
       "    </tr>\n",
       "    <tr>\n",
       "      <th>38</th>\n",
       "      <td>39</td>\n",
       "      <td>20</td>\n",
       "      <td>32</td>\n",
       "    </tr>\n",
       "    <tr>\n",
       "      <th>39</th>\n",
       "      <td>40</td>\n",
       "      <td>20</td>\n",
       "      <td>48</td>\n",
       "    </tr>\n",
       "    <tr>\n",
       "      <th>40</th>\n",
       "      <td>41</td>\n",
       "      <td>20</td>\n",
       "      <td>52</td>\n",
       "    </tr>\n",
       "    <tr>\n",
       "      <th>41</th>\n",
       "      <td>42</td>\n",
       "      <td>20</td>\n",
       "      <td>56</td>\n",
       "    </tr>\n",
       "    <tr>\n",
       "      <th>42</th>\n",
       "      <td>43</td>\n",
       "      <td>20</td>\n",
       "      <td>64</td>\n",
       "    </tr>\n",
       "    <tr>\n",
       "      <th>43</th>\n",
       "      <td>44</td>\n",
       "      <td>22</td>\n",
       "      <td>66</td>\n",
       "    </tr>\n",
       "    <tr>\n",
       "      <th>44</th>\n",
       "      <td>45</td>\n",
       "      <td>23</td>\n",
       "      <td>54</td>\n",
       "    </tr>\n",
       "    <tr>\n",
       "      <th>45</th>\n",
       "      <td>46</td>\n",
       "      <td>24</td>\n",
       "      <td>70</td>\n",
       "    </tr>\n",
       "    <tr>\n",
       "      <th>46</th>\n",
       "      <td>47</td>\n",
       "      <td>24</td>\n",
       "      <td>92</td>\n",
       "    </tr>\n",
       "    <tr>\n",
       "      <th>47</th>\n",
       "      <td>48</td>\n",
       "      <td>24</td>\n",
       "      <td>93</td>\n",
       "    </tr>\n",
       "    <tr>\n",
       "      <th>48</th>\n",
       "      <td>49</td>\n",
       "      <td>24</td>\n",
       "      <td>120</td>\n",
       "    </tr>\n",
       "    <tr>\n",
       "      <th>49</th>\n",
       "      <td>50</td>\n",
       "      <td>25</td>\n",
       "      <td>85</td>\n",
       "    </tr>\n",
       "  </tbody>\n",
       "</table>\n",
       "</div>"
      ],
      "text/plain": [
       "    Index  speed  dist\n",
       "0       1      4     2\n",
       "1       2      4    10\n",
       "2       3      7     4\n",
       "3       4      7    22\n",
       "4       5      8    16\n",
       "5       6      9    10\n",
       "6       7     10    18\n",
       "7       8     10    26\n",
       "8       9     10    34\n",
       "9      10     11    17\n",
       "10     11     11    28\n",
       "11     12     12    14\n",
       "12     13     12    20\n",
       "13     14     12    24\n",
       "14     15     12    28\n",
       "15     16     13    26\n",
       "16     17     13    34\n",
       "17     18     13    34\n",
       "18     19     13    46\n",
       "19     20     14    26\n",
       "20     21     14    36\n",
       "21     22     14    60\n",
       "22     23     14    80\n",
       "23     24     15    20\n",
       "24     25     15    26\n",
       "25     26     15    54\n",
       "26     27     16    32\n",
       "27     28     16    40\n",
       "28     29     17    32\n",
       "29     30     17    40\n",
       "30     31     17    50\n",
       "31     32     18    42\n",
       "32     33     18    56\n",
       "33     34     18    76\n",
       "34     35     18    84\n",
       "35     36     19    36\n",
       "36     37     19    46\n",
       "37     38     19    68\n",
       "38     39     20    32\n",
       "39     40     20    48\n",
       "40     41     20    52\n",
       "41     42     20    56\n",
       "42     43     20    64\n",
       "43     44     22    66\n",
       "44     45     23    54\n",
       "45     46     24    70\n",
       "46     47     24    92\n",
       "47     48     24    93\n",
       "48     49     24   120\n",
       "49     50     25    85"
      ]
     },
     "execution_count": 28,
     "metadata": {},
     "output_type": "execute_result"
    }
   ],
   "source": [
    "Q9a"
   ]
  },
  {
   "cell_type": "markdown",
   "id": "80ba400c",
   "metadata": {},
   "source": [
    "### skewness and kurtosis for speed"
   ]
  },
  {
   "cell_type": "code",
   "execution_count": 29,
   "id": "ca51e7f2",
   "metadata": {
    "ExecuteTime": {
     "end_time": "2023-03-01T08:33:07.291941Z",
     "start_time": "2023-03-01T08:33:06.692445Z"
    }
   },
   "outputs": [
    {
     "data": {
      "text/plain": [
       "-0.11750986144663393"
      ]
     },
     "execution_count": 29,
     "metadata": {},
     "output_type": "execute_result"
    }
   ],
   "source": [
    "Q9a.speed.skew()"
   ]
  },
  {
   "cell_type": "code",
   "execution_count": 30,
   "id": "72629be2",
   "metadata": {
    "ExecuteTime": {
     "end_time": "2023-03-01T08:33:16.139951Z",
     "start_time": "2023-03-01T08:33:16.014795Z"
    }
   },
   "outputs": [
    {
     "data": {
      "text/plain": [
       "-0.5089944204057617"
      ]
     },
     "execution_count": 30,
     "metadata": {},
     "output_type": "execute_result"
    }
   ],
   "source": [
    "Q9a.speed.kurt()"
   ]
  },
  {
   "cell_type": "markdown",
   "id": "67afcc81",
   "metadata": {},
   "source": [
    "## skewness and kurtosis for dist"
   ]
  },
  {
   "cell_type": "code",
   "execution_count": 31,
   "id": "4ab09de5",
   "metadata": {
    "ExecuteTime": {
     "end_time": "2023-03-01T08:33:45.234373Z",
     "start_time": "2023-03-01T08:33:45.220407Z"
    }
   },
   "outputs": [
    {
     "data": {
      "text/plain": [
       "0.8068949601674215"
      ]
     },
     "execution_count": 31,
     "metadata": {},
     "output_type": "execute_result"
    }
   ],
   "source": [
    "Q9a.dist.skew()"
   ]
  },
  {
   "cell_type": "code",
   "execution_count": 32,
   "id": "21f5757a",
   "metadata": {
    "ExecuteTime": {
     "end_time": "2023-03-01T08:34:00.152301Z",
     "start_time": "2023-03-01T08:34:00.121173Z"
    }
   },
   "outputs": [
    {
     "data": {
      "text/plain": [
       "0.4050525816795765"
      ]
     },
     "execution_count": 32,
     "metadata": {},
     "output_type": "execute_result"
    }
   ],
   "source": [
    "Q9a.dist.kurt()"
   ]
  },
  {
   "cell_type": "markdown",
   "id": "a033e6e5",
   "metadata": {},
   "source": [
    "## Q9b"
   ]
  },
  {
   "cell_type": "code",
   "execution_count": 33,
   "id": "0c80d483",
   "metadata": {
    "ExecuteTime": {
     "end_time": "2023-03-01T08:34:57.577489Z",
     "start_time": "2023-03-01T08:34:57.499698Z"
    }
   },
   "outputs": [],
   "source": [
    "Q9b=pd.read_csv(r\"C:\\Users\\safreena\\Desktop\\Assignments ExcelR\\Basic statistics_1\\Data sets\\Q9_b.csv\")"
   ]
  },
  {
   "cell_type": "code",
   "execution_count": 34,
   "id": "4c6e27e7",
   "metadata": {
    "ExecuteTime": {
     "end_time": "2023-03-01T08:35:10.127731Z",
     "start_time": "2023-03-01T08:35:09.933680Z"
    }
   },
   "outputs": [
    {
     "data": {
      "text/html": [
       "<div>\n",
       "<style scoped>\n",
       "    .dataframe tbody tr th:only-of-type {\n",
       "        vertical-align: middle;\n",
       "    }\n",
       "\n",
       "    .dataframe tbody tr th {\n",
       "        vertical-align: top;\n",
       "    }\n",
       "\n",
       "    .dataframe thead th {\n",
       "        text-align: right;\n",
       "    }\n",
       "</style>\n",
       "<table border=\"1\" class=\"dataframe\">\n",
       "  <thead>\n",
       "    <tr style=\"text-align: right;\">\n",
       "      <th></th>\n",
       "      <th>Unnamed: 0</th>\n",
       "      <th>SP</th>\n",
       "      <th>WT</th>\n",
       "    </tr>\n",
       "  </thead>\n",
       "  <tbody>\n",
       "    <tr>\n",
       "      <th>0</th>\n",
       "      <td>1</td>\n",
       "      <td>104.185353</td>\n",
       "      <td>28.762059</td>\n",
       "    </tr>\n",
       "    <tr>\n",
       "      <th>1</th>\n",
       "      <td>2</td>\n",
       "      <td>105.461264</td>\n",
       "      <td>30.466833</td>\n",
       "    </tr>\n",
       "    <tr>\n",
       "      <th>2</th>\n",
       "      <td>3</td>\n",
       "      <td>105.461264</td>\n",
       "      <td>30.193597</td>\n",
       "    </tr>\n",
       "    <tr>\n",
       "      <th>3</th>\n",
       "      <td>4</td>\n",
       "      <td>113.461264</td>\n",
       "      <td>30.632114</td>\n",
       "    </tr>\n",
       "    <tr>\n",
       "      <th>4</th>\n",
       "      <td>5</td>\n",
       "      <td>104.461264</td>\n",
       "      <td>29.889149</td>\n",
       "    </tr>\n",
       "    <tr>\n",
       "      <th>...</th>\n",
       "      <td>...</td>\n",
       "      <td>...</td>\n",
       "      <td>...</td>\n",
       "    </tr>\n",
       "    <tr>\n",
       "      <th>76</th>\n",
       "      <td>77</td>\n",
       "      <td>169.598513</td>\n",
       "      <td>16.132947</td>\n",
       "    </tr>\n",
       "    <tr>\n",
       "      <th>77</th>\n",
       "      <td>78</td>\n",
       "      <td>150.576579</td>\n",
       "      <td>37.923113</td>\n",
       "    </tr>\n",
       "    <tr>\n",
       "      <th>78</th>\n",
       "      <td>79</td>\n",
       "      <td>151.598513</td>\n",
       "      <td>15.769625</td>\n",
       "    </tr>\n",
       "    <tr>\n",
       "      <th>79</th>\n",
       "      <td>80</td>\n",
       "      <td>167.944460</td>\n",
       "      <td>39.423099</td>\n",
       "    </tr>\n",
       "    <tr>\n",
       "      <th>80</th>\n",
       "      <td>81</td>\n",
       "      <td>139.840817</td>\n",
       "      <td>34.948615</td>\n",
       "    </tr>\n",
       "  </tbody>\n",
       "</table>\n",
       "<p>81 rows × 3 columns</p>\n",
       "</div>"
      ],
      "text/plain": [
       "    Unnamed: 0          SP         WT\n",
       "0            1  104.185353  28.762059\n",
       "1            2  105.461264  30.466833\n",
       "2            3  105.461264  30.193597\n",
       "3            4  113.461264  30.632114\n",
       "4            5  104.461264  29.889149\n",
       "..         ...         ...        ...\n",
       "76          77  169.598513  16.132947\n",
       "77          78  150.576579  37.923113\n",
       "78          79  151.598513  15.769625\n",
       "79          80  167.944460  39.423099\n",
       "80          81  139.840817  34.948615\n",
       "\n",
       "[81 rows x 3 columns]"
      ]
     },
     "execution_count": 34,
     "metadata": {},
     "output_type": "execute_result"
    }
   ],
   "source": [
    "Q9b"
   ]
  },
  {
   "cell_type": "code",
   "execution_count": 35,
   "id": "f3310823",
   "metadata": {
    "ExecuteTime": {
     "end_time": "2023-03-01T08:35:42.016512Z",
     "start_time": "2023-03-01T08:35:41.970608Z"
    }
   },
   "outputs": [
    {
     "data": {
      "text/plain": [
       "1.6114501961773586"
      ]
     },
     "execution_count": 35,
     "metadata": {},
     "output_type": "execute_result"
    }
   ],
   "source": [
    "##skewness and kurtosis for SP\n",
    "Q9b.SP.skew()"
   ]
  },
  {
   "cell_type": "code",
   "execution_count": 36,
   "id": "6f6110fc",
   "metadata": {
    "ExecuteTime": {
     "end_time": "2023-03-01T08:35:51.877789Z",
     "start_time": "2023-03-01T08:35:51.852401Z"
    }
   },
   "outputs": [
    {
     "data": {
      "text/plain": [
       "2.9773289437871835"
      ]
     },
     "execution_count": 36,
     "metadata": {},
     "output_type": "execute_result"
    }
   ],
   "source": [
    "Q9b.SP.kurt()"
   ]
  },
  {
   "cell_type": "code",
   "execution_count": 37,
   "id": "64e9aa31",
   "metadata": {
    "ExecuteTime": {
     "end_time": "2023-03-01T08:36:10.933531Z",
     "start_time": "2023-03-01T08:36:10.923554Z"
    }
   },
   "outputs": [],
   "source": [
    "##skewness and kurtosis for HP"
   ]
  },
  {
   "cell_type": "code",
   "execution_count": 38,
   "id": "b7287ef1",
   "metadata": {
    "ExecuteTime": {
     "end_time": "2023-03-01T08:36:21.953286Z",
     "start_time": "2023-03-01T08:36:21.932341Z"
    }
   },
   "outputs": [
    {
     "data": {
      "text/plain": [
       "-0.6147533255357768"
      ]
     },
     "execution_count": 38,
     "metadata": {},
     "output_type": "execute_result"
    }
   ],
   "source": [
    "Q9b.WT.skew()"
   ]
  },
  {
   "cell_type": "code",
   "execution_count": 39,
   "id": "fac53222",
   "metadata": {
    "ExecuteTime": {
     "end_time": "2023-03-01T08:36:31.524557Z",
     "start_time": "2023-03-01T08:36:31.501616Z"
    }
   },
   "outputs": [
    {
     "data": {
      "text/plain": [
       "0.9502914910300326"
      ]
     },
     "execution_count": 39,
     "metadata": {},
     "output_type": "execute_result"
    }
   ],
   "source": [
    "Q9b.WT.kurt()"
   ]
  },
  {
   "cell_type": "markdown",
   "id": "91552063",
   "metadata": {},
   "source": [
    "## Q-12 mean median and variance and standard deviation"
   ]
  },
  {
   "cell_type": "code",
   "execution_count": 40,
   "id": "72bd5867",
   "metadata": {
    "ExecuteTime": {
     "end_time": "2023-03-01T08:37:22.757882Z",
     "start_time": "2023-03-01T08:37:22.746884Z"
    }
   },
   "outputs": [],
   "source": [
    "Q12=pd.DataFrame([34,36,36,38,38,39,39,40,40,41,41,41,41,42,42,45,49,56])"
   ]
  },
  {
   "cell_type": "code",
   "execution_count": 41,
   "id": "a2da1e50",
   "metadata": {
    "ExecuteTime": {
     "end_time": "2023-03-01T08:37:44.071188Z",
     "start_time": "2023-03-01T08:37:44.043383Z"
    }
   },
   "outputs": [
    {
     "data": {
      "text/plain": [
       "0    41.0\n",
       "dtype: float64"
      ]
     },
     "execution_count": 41,
     "metadata": {},
     "output_type": "execute_result"
    }
   ],
   "source": [
    "Q12.mean()"
   ]
  },
  {
   "cell_type": "code",
   "execution_count": 42,
   "id": "d080c27a",
   "metadata": {
    "ExecuteTime": {
     "end_time": "2023-03-01T08:37:46.457541Z",
     "start_time": "2023-03-01T08:37:46.418615Z"
    }
   },
   "outputs": [
    {
     "data": {
      "text/plain": [
       "0    40.5\n",
       "dtype: float64"
      ]
     },
     "execution_count": 42,
     "metadata": {},
     "output_type": "execute_result"
    }
   ],
   "source": [
    "Q12.median()"
   ]
  },
  {
   "cell_type": "code",
   "execution_count": 43,
   "id": "7a98dc70",
   "metadata": {
    "ExecuteTime": {
     "end_time": "2023-03-01T08:37:55.875345Z",
     "start_time": "2023-03-01T08:37:55.859357Z"
    }
   },
   "outputs": [
    {
     "data": {
      "text/plain": [
       "0    25.529412\n",
       "dtype: float64"
      ]
     },
     "execution_count": 43,
     "metadata": {},
     "output_type": "execute_result"
    }
   ],
   "source": [
    "Q12.var()"
   ]
  },
  {
   "cell_type": "code",
   "execution_count": 44,
   "id": "5c182045",
   "metadata": {
    "ExecuteTime": {
     "end_time": "2023-03-01T08:38:06.330325Z",
     "start_time": "2023-03-01T08:38:06.315368Z"
    }
   },
   "outputs": [
    {
     "data": {
      "text/plain": [
       "0    5.052664\n",
       "dtype: float64"
      ]
     },
     "execution_count": 44,
     "metadata": {},
     "output_type": "execute_result"
    }
   ],
   "source": [
    "Q12.std()"
   ]
  },
  {
   "cell_type": "markdown",
   "id": "bb4d1475",
   "metadata": {},
   "source": [
    "##  Q-20 probability for MPG"
   ]
  },
  {
   "cell_type": "code",
   "execution_count": 46,
   "id": "5a9fcaf2",
   "metadata": {
    "ExecuteTime": {
     "end_time": "2023-03-01T08:39:44.227944Z",
     "start_time": "2023-03-01T08:39:43.909436Z"
    }
   },
   "outputs": [],
   "source": [
    "cars=pd.read_csv(r\"C:\\Users\\safreena\\Desktop\\Assignments ExcelR\\Basic statistics_1\\Data sets\\Cars.csv\")"
   ]
  },
  {
   "cell_type": "code",
   "execution_count": 47,
   "id": "81151531",
   "metadata": {
    "ExecuteTime": {
     "end_time": "2023-03-01T08:39:55.945290Z",
     "start_time": "2023-03-01T08:39:55.932326Z"
    }
   },
   "outputs": [
    {
     "data": {
      "text/plain": [
       "34.422075728024666"
      ]
     },
     "execution_count": 47,
     "metadata": {},
     "output_type": "execute_result"
    }
   ],
   "source": [
    "cars.MPG.mean()"
   ]
  },
  {
   "cell_type": "code",
   "execution_count": 48,
   "id": "21558765",
   "metadata": {
    "ExecuteTime": {
     "end_time": "2023-03-01T08:40:10.538979Z",
     "start_time": "2023-03-01T08:40:10.525016Z"
    }
   },
   "outputs": [
    {
     "data": {
      "text/plain": [
       "9.131444731795982"
      ]
     },
     "execution_count": 48,
     "metadata": {},
     "output_type": "execute_result"
    }
   ],
   "source": [
    "cars.MPG.std()"
   ]
  },
  {
   "cell_type": "code",
   "execution_count": 49,
   "id": "94c786a5",
   "metadata": {
    "ExecuteTime": {
     "end_time": "2023-03-01T08:40:39.408022Z",
     "start_time": "2023-03-01T08:40:22.092472Z"
    }
   },
   "outputs": [],
   "source": [
    "from scipy import stats"
   ]
  },
  {
   "cell_type": "code",
   "execution_count": 50,
   "id": "3cc211e9",
   "metadata": {
    "ExecuteTime": {
     "end_time": "2023-03-01T08:40:39.550789Z",
     "start_time": "2023-03-01T08:40:39.424028Z"
    }
   },
   "outputs": [
    {
     "data": {
      "text/plain": [
       "0.34748702501304063"
      ]
     },
     "execution_count": 50,
     "metadata": {},
     "output_type": "execute_result"
    }
   ],
   "source": [
    "# Probability for MPG>38\n",
    "(1-stats.norm.cdf(38,34.42,9.13))"
   ]
  },
  {
   "cell_type": "code",
   "execution_count": 51,
   "id": "34c7f587",
   "metadata": {
    "ExecuteTime": {
     "end_time": "2023-03-01T08:40:45.097090Z",
     "start_time": "2023-03-01T08:40:45.074127Z"
    }
   },
   "outputs": [
    {
     "data": {
      "text/plain": [
       "0.7294571279557076"
      ]
     },
     "execution_count": 51,
     "metadata": {},
     "output_type": "execute_result"
    }
   ],
   "source": [
    "#Probability of MPG<40\n",
    "stats.norm.cdf(40,34.42,9.13)"
   ]
  },
  {
   "cell_type": "code",
   "execution_count": 52,
   "id": "e85cc5c2",
   "metadata": {
    "ExecuteTime": {
     "end_time": "2023-03-01T08:40:55.816138Z",
     "start_time": "2023-03-01T08:40:55.805138Z"
    }
   },
   "outputs": [
    {
     "data": {
      "text/plain": [
       "0.017787691026486474"
      ]
     },
     "execution_count": 52,
     "metadata": {},
     "output_type": "execute_result"
    }
   ],
   "source": [
    "#Probability for 20<MPG<50\n",
    "stats.norm.cdf(50,34.42,19.13)-(1-stats.norm.cdf(20,34.42,19.13))"
   ]
  },
  {
   "cell_type": "code",
   "execution_count": 53,
   "id": "5da80d0a",
   "metadata": {
    "ExecuteTime": {
     "end_time": "2023-03-01T08:41:05.397140Z",
     "start_time": "2023-03-01T08:41:05.195479Z"
    }
   },
   "outputs": [
    {
     "data": {
      "text/plain": [
       "0.32216394448907903"
      ]
     },
     "execution_count": 53,
     "metadata": {},
     "output_type": "execute_result"
    }
   ],
   "source": [
    "stats.t.cdf(-0.47,17)"
   ]
  },
  {
   "cell_type": "markdown",
   "id": "80efef54",
   "metadata": {},
   "source": [
    "## Q-21 data follows normal distribution or not"
   ]
  },
  {
   "cell_type": "code",
   "execution_count": 54,
   "id": "0a63b8c4",
   "metadata": {
    "ExecuteTime": {
     "end_time": "2023-03-01T08:42:40.225701Z",
     "start_time": "2023-03-01T08:41:45.731141Z"
    }
   },
   "outputs": [
    {
     "data": {
      "image/png": "[encoded data removed]",
      "text/plain": [
       "<Figure size 640x480 with 1 Axes>"
      ]
     },
     "metadata": {},
     "output_type": "display_data"
    }
   ],
   "source": [
    "import statsmodels.api as sm\n",
    "import matplotlib.pyplot as plt\n",
    "qqplot=sm.qqplot(cars.MPG,line=\"q\") \n",
    "plt.title(\"Normal Q-Q plot of MPG\")\n",
    "plt.show()"
   ]
  },
  {
   "cell_type": "markdown",
   "id": "bb60cee5",
   "metadata": {},
   "source": [
    "### qq plot of MPG shows normal distribution"
   ]
  },
  {
   "cell_type": "code",
   "execution_count": 55,
   "id": "908a52fa",
   "metadata": {
    "ExecuteTime": {
     "end_time": "2023-03-01T08:43:31.196376Z",
     "start_time": "2023-03-01T08:43:31.178396Z"
    }
   },
   "outputs": [],
   "source": [
    "Data=pd.read_csv(r\"C:\\Users\\safreena\\Desktop\\Assignments ExcelR\\Basic statistics_1\\Data sets\\wc-at.csv\")"
   ]
  },
  {
   "cell_type": "code",
   "execution_count": 56,
   "id": "ed27d132",
   "metadata": {
    "ExecuteTime": {
     "end_time": "2023-03-01T08:43:45.008770Z",
     "start_time": "2023-03-01T08:43:44.619394Z"
    }
   },
   "outputs": [
    {
     "data": {
      "image/png": "[encoded data removed]",
      "text/plain": [
       "<Figure size 640x480 with 1 Axes>"
      ]
     },
     "metadata": {},
     "output_type": "display_data"
    }
   ],
   "source": [
    "import statsmodels.api as sm\n",
    "import matplotlib.pyplot as plt\n",
    "qqplot=sm.qqplot(Data.Waist,line=\"q\") \n",
    "plt.title(\"Normal Q-Q plot of Waist\")\n",
    "plt.show()"
   ]
  },
  {
   "cell_type": "markdown",
   "id": "8b02cc52",
   "metadata": {},
   "source": [
    "### qq plot of Waist shows normal distribution"
   ]
  },
  {
   "cell_type": "code",
   "execution_count": 57,
   "id": "aee8500f",
   "metadata": {
    "ExecuteTime": {
     "end_time": "2023-03-01T08:44:30.346621Z",
     "start_time": "2023-03-01T08:44:30.106504Z"
    }
   },
   "outputs": [
    {
     "data": {
      "image/png": "[encoded data removed]",
      "text/plain": [
       "<Figure size 640x480 with 1 Axes>"
      ]
     },
     "metadata": {},
     "output_type": "display_data"
    }
   ],
   "source": [
    "import statsmodels.api as sm\n",
    "import matplotlib.pyplot as plt\n",
    "qqplot=sm.qqplot(Data.AT,line=\"q\") \n",
    "plt.title(\"Normal Q-Q plot of AT\")\n",
    "plt.show()\n"
   ]
  },
  {
   "cell_type": "code",
   "execution_count": null,
   "id": "f1ab967d",
   "metadata": {},
   "outputs": [],
   "source": []
  }
 ],
 "metadata": {
  "kernelspec": {
   "display_name": "Python 3 (ipykernel)",
   "language": "python",
   "name": "python3"
  },
  "language_info": {
   "codemirror_mode": {
    "name": "ipython",
    "version": 3
   },
   "file_extension": ".py",
   "mimetype": "text/x-python",
   "name": "python",
   "nbconvert_exporter": "python",
   "pygments_lexer": "ipython3",
   "version": "3.9.13"
  }
 },
 "nbformat": 4,
 "nbformat_minor": 5
}
